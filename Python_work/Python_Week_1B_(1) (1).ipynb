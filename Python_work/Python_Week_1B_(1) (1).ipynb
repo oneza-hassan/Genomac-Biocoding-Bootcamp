{
  "cells": [
    {
      "cell_type": "markdown",
      "metadata": {
        "id": "hFx3qNWKWTK9"
      },
      "source": [
        "# Conditional statements in Python\n",
        "\n",
        "Conditional statements in programming are used to execute specific blocks of code based on whether certain conditions are met.\n",
        "\n",
        "**if, elif, and else**\n",
        "\n",
        "**if** statements are the most basic form of conditional execution. They are used to execute a block of code only if a specified condition is True."
      ]
    },
    {
      "cell_type": "code",
      "execution_count": null,
      "metadata": {
        "id": "cii7jELFUT5M"
      },
      "outputs": [],
      "source": [
        "# Check how many digits our variable has\n",
        "x = 15\n",
        "\n",
        "if x > 9:\n",
        "    print(\"Our variable is a two-digit number\")"
      ]
    },
    {
      "cell_type": "code",
      "execution_count": null,
      "metadata": {
        "id": "2-MmVL0Agcq2"
      },
      "outputs": [],
      "source": [
        "# Let's try it with booleans\n",
        "x = True\n",
        "\n",
        "if x:  # \"if x\" is the same as \"if x==True\"\n",
        "    print(\"x was true\")"
      ]
    },
    {
      "cell_type": "code",
      "execution_count": null,
      "metadata": {
        "id": "9YipG-SSleZI"
      },
      "outputs": [],
      "source": [
        "x = False\n",
        "\n",
        "if x:\n",
        "    print(\"x was true\") # It did not print becuase x is False"
      ]
    },
    {
      "cell_type": "markdown",
      "metadata": {
        "id": "ze62piuZWZld"
      },
      "source": [
        "**Nested if** statements are used when we need to perform another conditional check within an if block."
      ]
    },
    {
      "cell_type": "code",
      "execution_count": null,
      "metadata": {
        "id": "a_X3-GZMjqGP"
      },
      "outputs": [],
      "source": [
        "x = 15\n",
        "odd_number = True\n",
        "\n",
        "if x > 9:\n",
        "    if odd_number:  # remember that \"if odd_number\" is equivalent to \"if odd_number == True\"\n",
        "        print(\"x is an odd number and a two-digit number\")"
      ]
    },
    {
      "cell_type": "markdown",
      "metadata": {
        "id": "z5wqtg_4jrNg"
      },
      "source": [
        "**if-else statements** execute one block of code if the condition is True and another block if it is False. We can use multiple \"if\" but only one \"else\". \"else\" cannot be used without an \"if\"."
      ]
    },
    {
      "cell_type": "code",
      "execution_count": null,
      "metadata": {
        "id": "9HIyTyxLj2oR"
      },
      "outputs": [],
      "source": [
        "x = 15\n",
        "\n",
        "if x < 10:\n",
        "    print('10')\n",
        "else:\n",
        "    print('Not 10')"
      ]
    },
    {
      "cell_type": "code",
      "execution_count": null,
      "metadata": {
        "id": "oGv6mTltn6cZ"
      },
      "outputs": [],
      "source": [
        "x = False\n",
        "\n",
        "if x:\n",
        "    print(\"x was true\")\n",
        "else:\n",
        "    print(\"y will be printed in any case where x is not true\")"
      ]
    },
    {
      "cell_type": "markdown",
      "metadata": {
        "id": "QbmC8X47oFdP"
      },
      "source": [
        "**elif** (short for else if) **statements** provide a middle ground between if and else. They are used when we have multiple conditions to check sequentially."
      ]
    },
    {
      "cell_type": "code",
      "execution_count": null,
      "metadata": {
        "id": "bF7dKf4-unJh"
      },
      "outputs": [],
      "source": [
        "x = 15\n",
        "\n",
        "if x >= 15:\n",
        "    print('15 or more')\n",
        "elif x < 15:\n",
        "    print('Not 15')\n",
        "else:\n",
        "    print('less than 10')"
      ]
    },
    {
      "cell_type": "code",
      "execution_count": null,
      "metadata": {
        "id": "BhgR75AhuyzC"
      },
      "outputs": [],
      "source": [
        "Toyota = \"Car\"\n",
        "\n",
        "if Toyota == \"Car\":\n",
        "    print(\"Welcome to the dealership store!\")\n",
        "if Toyota == \"Car\":\n",
        "    print(\"Don't leave so soon!\")\n",
        "else:\n",
        "    print(\"Where are you going?\")"
      ]
    },
    {
      "cell_type": "code",
      "execution_count": null,
      "metadata": {
        "id": "GrGED3NEw7R8",
        "colab": {
          "base_uri": "https://localhost:8080/"
        },
        "outputId": "fb2b5868-afcb-4a9f-bf33-41639061ce1d"
      },
      "outputs": [
        {
          "output_type": "stream",
          "name": "stdout",
          "text": [
            "Welcome to the dealership store!\n"
          ]
        }
      ],
      "source": [
        "Toyota = \"Car\"\n",
        "\n",
        "if Toyota == \"Car\":\n",
        "    print(\"Welcome to the dealership store!\")\n",
        "elif Toyota == \"Car\":\n",
        "    print(\"Don't leave so soon!\")\n",
        "else:\n",
        "    print(\"Where are you going?\")"
      ]
    },
    {
      "cell_type": "markdown",
      "metadata": {
        "id": "bHva-s--utN1"
      },
      "source": [
        "**Chained conditional statements** use elif (else if) for multiple checks. They are used when there are more than two possibilities and exactly one must be chosen."
      ]
    },
    {
      "cell_type": "code",
      "execution_count": null,
      "metadata": {
        "id": "Fv1p_Ra1xblV",
        "colab": {
          "base_uri": "https://localhost:8080/"
        },
        "outputId": "8ff389ab-d477-4f89-f8bc-85390e1c1e84"
      },
      "outputs": [
        {
          "output_type": "stream",
          "name": "stdout",
          "text": [
            "Deforestation has reached the maximum safe limit\n"
          ]
        }
      ],
      "source": [
        "# Determine and print appropriate environmental actions based on the current deforestation rate level.\n",
        "deforestation_rate = 0.1\n",
        "\n",
        "if deforestation_rate > 0.3:\n",
        "    print(\"Implement emergency measures\")\n",
        "elif deforestation_rate > 0.2:\n",
        "    print(\"Increase surveillance and conservation efforts\")\n",
        "elif deforestation_rate == 0.1:\n",
        "    print(\"Deforestation has reached the maximum safe limit\")\n",
        "elif deforestation_rate >= 0.1:\n",
        "    print(\"Monitor and plan reforestation\")\n",
        "else:\n",
        "    print(\"Deforestation rate is within safe limits\")"
      ]
    },
    {
      "cell_type": "code",
      "execution_count": null,
      "metadata": {
        "id": "m8-OXUeL282X",
        "colab": {
          "base_uri": "https://localhost:8080/"
        },
        "outputId": "cb328436-7d74-4b7f-df6a-3fee394f64ad"
      },
      "outputs": [
        {
          "output_type": "stream",
          "name": "stdout",
          "text": [
            "Rainy and Very Cold\n"
          ]
        }
      ],
      "source": [
        "temperature = 4\n",
        "\n",
        "if temperature > 30:\n",
        "    print('Sunny and Hot')\n",
        "elif temperature >= 20 and temperature <= 30:\n",
        "    print('Sunny and Moderate')\n",
        "elif temperature < 20 and temperature >= 5:\n",
        "    print('Rainy and Cold')\n",
        "else:\n",
        "    print('Rainy and Very Cold')"
      ]
    },
    {
      "cell_type": "markdown",
      "metadata": {
        "id": "fW2U2fiI3XMm"
      },
      "source": [
        "Conditional statement keywords: **not** and **pass**\n",
        "\n",
        "if not is used to check the negation of a condition. It's a more readable way to check if not true."
      ]
    },
    {
      "cell_type": "code",
      "execution_count": null,
      "metadata": {
        "id": "lRVo_SSM3W-v",
        "colab": {
          "base_uri": "https://localhost:8080/"
        },
        "outputId": "98cf779e-fbae-4295-e558-459a04465fc2"
      },
      "outputs": [
        {
          "output_type": "stream",
          "name": "stdout",
          "text": [
            "Patient is healthy!\n"
          ]
        }
      ],
      "source": [
        "carcinoma_detected = False\n",
        "\n",
        "if not carcinoma_detected:\n",
        "    print(\"Patient is healthy!\")\n",
        "else:\n",
        "    print(\"Carcinoma detected!\")"
      ]
    },
    {
      "cell_type": "markdown",
      "metadata": {
        "id": "H1Oio3Bj4JC3"
      },
      "source": [
        "**pass** is a null statement in Python. It is used when a statement is syntactically required but we do not want any command or code to execute. It is often used as a placeholder for future code."
      ]
    },
    {
      "cell_type": "code",
      "execution_count": null,
      "metadata": {
        "id": "Ds9Qe5w24VBI"
      },
      "outputs": [],
      "source": [
        "# This code will result in an error because the 'if' block is empty.\n",
        "carcinoma_level = 0.09\n",
        "\n",
        "if carcinoma_level > 0.11:\n",
        "else:\n",
        "    print(\"No immediate action required\")"
      ]
    },
    {
      "cell_type": "markdown",
      "metadata": {
        "id": "Vrk8zGSo4fHx"
      },
      "source": [
        "To resolve this error, we can insert a **pass** statement in the **if** block."
      ]
    },
    {
      "cell_type": "code",
      "execution_count": null,
      "metadata": {
        "id": "YuhC1FFZ4j-3"
      },
      "outputs": [],
      "source": [
        "carcinoma_level = 0.24\n",
        "\n",
        "if carcinoma_level > 0.11:\n",
        "    pass\n",
        "else:\n",
        "    print(\"No immediate action required\")"
      ]
    },
    {
      "cell_type": "markdown",
      "metadata": {
        "id": "QVEUY1BHVWNB"
      },
      "source": [
        "#***Loops ***"
      ]
    },
    {
      "cell_type": "markdown",
      "metadata": {
        "id": "17FPlbq4VlGZ"
      },
      "source": [
        "Loops are a fundamental concept in programming, serving a crucial role in automating repetitive tasks and efficiently handling large datasets.\n",
        "\n",
        "**for loops**: Ideal for going through a sequence (like a list, tuple, or string), one by one. We use for loops when we know how many things there are in a list.\n",
        "\n"
      ]
    },
    {
      "cell_type": "code",
      "execution_count": null,
      "metadata": {
        "id": "QdTwnrGnW3JK"
      },
      "outputs": [],
      "source": [
        "list_of_numbers =[0,1,2,3,4,5]\n",
        "for i in list_of_numbers:\n",
        "    print(i)"
      ]
    },
    {
      "cell_type": "code",
      "execution_count": null,
      "metadata": {
        "id": "Zd8EGjxMVdSs",
        "colab": {
          "base_uri": "https://localhost:8080/"
        },
        "outputId": "15981476-cfe4-44d1-f391-7340fd368d85"
      },
      "outputs": [
        {
          "output_type": "execute_result",
          "data": {
            "text/plain": [
              "[1, 2, 3, 4, 5, 6, 7, 8, 9, 10]"
            ]
          },
          "metadata": {},
          "execution_count": 7
        }
      ],
      "source": [
        "list1 = [1,2,3,4,5,6,7,8,9,10]\n",
        "list1"
      ]
    },
    {
      "cell_type": "code",
      "execution_count": null,
      "metadata": {
        "id": "sJsbyY-1V9ko",
        "colab": {
          "base_uri": "https://localhost:8080/"
        },
        "outputId": "47205b6b-e01c-4fb9-d85d-a42d15b28578"
      },
      "outputs": [
        {
          "output_type": "stream",
          "name": "stdout",
          "text": [
            "2\n",
            "4\n",
            "6\n",
            "8\n",
            "10\n",
            "12\n",
            "14\n",
            "16\n",
            "18\n",
            "20\n"
          ]
        }
      ],
      "source": [
        "for num in list1:\n",
        "    print(num * 2)"
      ]
    },
    {
      "cell_type": "code",
      "execution_count": null,
      "metadata": {
        "id": "NehDIWZvmjXo",
        "colab": {
          "base_uri": "https://localhost:8080/"
        },
        "outputId": "f137d76e-24b2-4e90-ebf2-44f65bc9b9da"
      },
      "outputs": [
        {
          "output_type": "execute_result",
          "data": {
            "text/plain": [
              "[1, 2, 3, 4, 5, 6, 7, 8, 9]"
            ]
          },
          "metadata": {},
          "execution_count": 9
        }
      ],
      "source": [
        "list(range(1,10)) # range is a built-in function in python"
      ]
    },
    {
      "cell_type": "code",
      "execution_count": null,
      "metadata": {
        "id": "uFSwrp5Bmp2w",
        "colab": {
          "base_uri": "https://localhost:8080/"
        },
        "outputId": "9c1a8be6-1e60-480c-a945-7b0c1303e7d6"
      },
      "outputs": [
        {
          "output_type": "stream",
          "name": "stdout",
          "text": [
            "6\n",
            "7\n",
            "8\n",
            "9\n",
            "10\n",
            "11\n",
            "12\n",
            "13\n",
            "14\n"
          ]
        }
      ],
      "source": [
        "for i in range(1,10):\n",
        "    print(i + 5)"
      ]
    },
    {
      "cell_type": "code",
      "execution_count": null,
      "metadata": {
        "id": "_iPDFpTlXNvT",
        "colab": {
          "base_uri": "https://localhost:8080/"
        },
        "outputId": "a9b3a915-c4da-49bc-c5c4-80bbc0689ec6"
      },
      "outputs": [
        {
          "output_type": "stream",
          "name": "stdout",
          "text": [
            "odd number\n",
            "2\n",
            "odd number\n",
            "4\n",
            "odd number\n",
            "6\n",
            "odd number\n",
            "8\n",
            "odd number\n",
            "10\n"
          ]
        }
      ],
      "source": [
        "for nm in list1:\n",
        "    if nm % 2 == 0: # Modulo is what we used here, unlike division modulus allows us to get the remainder of a division\n",
        "        print(nm)\n",
        "    else:\n",
        "        print('odd number')"
      ]
    },
    {
      "cell_type": "code",
      "execution_count": null,
      "metadata": {
        "id": "SrKxEzDbXajS",
        "colab": {
          "base_uri": "https://localhost:8080/"
        },
        "outputId": "7488dd61-0e2b-45e6-9e8d-37bb0af37d94"
      },
      "outputs": [
        {
          "output_type": "execute_result",
          "data": {
            "text/plain": [
              "['w', 'o', 'r', 'd']"
            ]
          },
          "metadata": {},
          "execution_count": 13
        }
      ],
      "source": [
        "list2 = ['w', 'o', 'r', 'd']\n",
        "list2"
      ]
    },
    {
      "cell_type": "code",
      "execution_count": null,
      "metadata": {
        "id": "tsQR_wSJXcGo",
        "colab": {
          "base_uri": "https://localhost:8080/"
        },
        "outputId": "50daa83e-686d-411e-ab14-2ae2739c3095"
      },
      "outputs": [
        {
          "output_type": "stream",
          "name": "stdout",
          "text": [
            "w\n",
            "wo\n",
            "wor\n",
            "word\n"
          ]
        }
      ],
      "source": [
        "result=''\n",
        "\n",
        "for faruq in list2:\n",
        "    result += faruq # This += symbol is for concatenation. It is similar to saying result = result + faruq\n",
        "    print(result)"
      ]
    },
    {
      "cell_type": "code",
      "execution_count": null,
      "metadata": {
        "id": "_aqNMXjaXlyK",
        "colab": {
          "base_uri": "https://localhost:8080/"
        },
        "outputId": "3d96c61c-e855-48fc-d159-84620cff15ee"
      },
      "outputs": [
        {
          "output_type": "stream",
          "name": "stdout",
          "text": [
            "['w', 'o', 'r', 'd']\n"
          ]
        }
      ],
      "source": [
        "print(list2)  # let's compare the output of this code with the output of the code above"
      ]
    },
    {
      "cell_type": "code",
      "execution_count": null,
      "metadata": {
        "id": "ZSZj788OYBk6",
        "colab": {
          "base_uri": "https://localhost:8080/"
        },
        "outputId": "8521408c-03aa-407a-ed86-0c1805cdc689"
      },
      "outputs": [
        {
          "output_type": "execute_result",
          "data": {
            "text/plain": [
              "[1, 2, 3, 4, 5, 6]"
            ]
          },
          "metadata": {},
          "execution_count": 16
        }
      ],
      "source": [
        "list3 = [1,2,3,4,5,6]\n",
        "list3"
      ]
    },
    {
      "cell_type": "code",
      "execution_count": null,
      "metadata": {
        "id": "kAhstUGtYEla",
        "colab": {
          "base_uri": "https://localhost:8080/"
        },
        "outputId": "b507ff5d-9d30-471b-86bd-badb7f7ee938"
      },
      "outputs": [
        {
          "output_type": "stream",
          "name": "stdout",
          "text": [
            "8\n",
            "10\n",
            "13\n",
            "17\n",
            "22\n",
            "28\n"
          ]
        }
      ],
      "source": [
        "ng = 7\n",
        "\n",
        "for i in list3:\n",
        "    ng += i\n",
        "    print(ng)"
      ]
    },
    {
      "cell_type": "code",
      "execution_count": null,
      "metadata": {
        "id": "i5ONomqwYMs6",
        "colab": {
          "base_uri": "https://localhost:8080/"
        },
        "outputId": "c7decff4-2f08-4974-913e-7f2a4d0f290e"
      },
      "outputs": [
        {
          "output_type": "stream",
          "name": "stdout",
          "text": [
            "7\n",
            "9\n",
            "12\n",
            "16\n"
          ]
        }
      ],
      "source": [
        "nr = 6\n",
        "\n",
        "for k in range(1,5):\n",
        "    nr +=k\n",
        "    print(nr)"
      ]
    },
    {
      "cell_type": "code",
      "execution_count": null,
      "metadata": {
        "id": "YKabmT9JYSa6",
        "colab": {
          "base_uri": "https://localhost:8080/"
        },
        "outputId": "35cc4817-a5c0-4b5b-ea9b-c0d67db0adb5"
      },
      "outputs": [
        {
          "output_type": "stream",
          "name": "stdout",
          "text": [
            "16\n"
          ]
        }
      ],
      "source": [
        "print(nr)  # This shows the result of when the print statement is not used in the same indentation as the loop"
      ]
    },
    {
      "cell_type": "code",
      "execution_count": null,
      "metadata": {
        "id": "YcxH5-FeYn2a",
        "colab": {
          "base_uri": "https://localhost:8080/"
        },
        "outputId": "7b298963-d096-454e-e0b8-9e0c8f275607"
      },
      "outputs": [
        {
          "output_type": "stream",
          "name": "stdout",
          "text": [
            "0 times 2 is 0\n",
            "1 times 2 is 2\n",
            "2 times 2 is 4\n",
            "3 times 2 is 6\n",
            "4 times 2 is 8\n",
            "5 times 2 is 10\n",
            "6 times 2 is 12\n",
            "7 times 2 is 14\n",
            "8 times 2 is 16\n",
            "9 times 2 is 18\n",
            "10 times 2 is 20\n",
            "11 times 2 is 22\n",
            "12 times 2 is 24\n",
            "13 times 2 is 26\n",
            "14 times 2 is 28\n",
            "15 times 2 is 30\n",
            "16 times 2 is 32\n",
            "17 times 2 is 34\n",
            "18 times 2 is 36\n",
            "19 times 2 is 38\n",
            "20 times 2 is 40\n",
            "21 times 2 is 42\n",
            "22 times 2 is 44\n",
            "23 times 2 is 46\n",
            "24 times 2 is 48\n",
            "25 times 2 is 50\n",
            "26 times 2 is 52\n",
            "27 times 2 is 54\n",
            "28 times 2 is 56\n",
            "29 times 2 is 58\n",
            "30 times 2 is 60\n",
            "31 times 2 is 62\n",
            "32 times 2 is 64\n",
            "33 times 2 is 66\n",
            "34 times 2 is 68\n",
            "35 times 2 is 70\n",
            "36 times 2 is 72\n",
            "37 times 2 is 74\n",
            "38 times 2 is 76\n",
            "39 times 2 is 78\n",
            "40 times 2 is 80\n",
            "41 times 2 is 82\n",
            "42 times 2 is 84\n",
            "43 times 2 is 86\n",
            "44 times 2 is 88\n",
            "45 times 2 is 90\n",
            "46 times 2 is 92\n",
            "47 times 2 is 94\n",
            "48 times 2 is 96\n",
            "49 times 2 is 98\n",
            "50 times 2 is 100\n",
            "51 times 2 is 102\n",
            "52 times 2 is 104\n",
            "53 times 2 is 106\n",
            "54 times 2 is 108\n",
            "55 times 2 is 110\n",
            "56 times 2 is 112\n",
            "57 times 2 is 114\n",
            "58 times 2 is 116\n",
            "59 times 2 is 118\n",
            "60 times 2 is 120\n",
            "61 times 2 is 122\n",
            "62 times 2 is 124\n",
            "63 times 2 is 126\n",
            "64 times 2 is 128\n",
            "65 times 2 is 130\n",
            "66 times 2 is 132\n",
            "67 times 2 is 134\n",
            "68 times 2 is 136\n",
            "69 times 2 is 138\n",
            "70 times 2 is 140\n",
            "71 times 2 is 142\n",
            "72 times 2 is 144\n",
            "73 times 2 is 146\n",
            "74 times 2 is 148\n",
            "75 times 2 is 150\n",
            "76 times 2 is 152\n",
            "77 times 2 is 154\n",
            "78 times 2 is 156\n",
            "79 times 2 is 158\n",
            "80 times 2 is 160\n",
            "81 times 2 is 162\n",
            "82 times 2 is 164\n",
            "83 times 2 is 166\n",
            "84 times 2 is 168\n",
            "85 times 2 is 170\n",
            "86 times 2 is 172\n",
            "87 times 2 is 174\n",
            "88 times 2 is 176\n",
            "89 times 2 is 178\n",
            "90 times 2 is 180\n",
            "91 times 2 is 182\n",
            "92 times 2 is 184\n",
            "93 times 2 is 186\n",
            "94 times 2 is 188\n",
            "95 times 2 is 190\n",
            "96 times 2 is 192\n",
            "97 times 2 is 194\n",
            "98 times 2 is 196\n",
            "99 times 2 is 198\n",
            "100 times 2 is 200\n",
            "101 times 2 is 202\n",
            "102 times 2 is 204\n",
            "103 times 2 is 206\n",
            "104 times 2 is 208\n",
            "105 times 2 is 210\n",
            "106 times 2 is 212\n",
            "107 times 2 is 214\n",
            "108 times 2 is 216\n",
            "109 times 2 is 218\n",
            "110 times 2 is 220\n",
            "111 times 2 is 222\n",
            "112 times 2 is 224\n",
            "113 times 2 is 226\n",
            "114 times 2 is 228\n",
            "115 times 2 is 230\n",
            "116 times 2 is 232\n",
            "117 times 2 is 234\n",
            "118 times 2 is 236\n",
            "119 times 2 is 238\n",
            "120 times 2 is 240\n"
          ]
        }
      ],
      "source": [
        "for i in range(121):\n",
        "    print(i, \"times 2 is\", 2*i)"
      ]
    },
    {
      "cell_type": "code",
      "execution_count": null,
      "metadata": {
        "id": "uRDCghjsY69C",
        "colab": {
          "base_uri": "https://localhost:8080/"
        },
        "outputId": "354c1cf7-c1b2-4af1-e3f6-d35611d548a6"
      },
      "outputs": [
        {
          "output_type": "stream",
          "name": "stdout",
          "text": [
            "['r']\n",
            "['r', 'e']\n",
            "['r', 'e', 's']\n",
            "['r', 'e', 's', 'u']\n",
            "['r', 'e', 's', 'u', 'l']\n",
            "['r', 'e', 's', 'u', 'l', 't']\n"
          ]
        }
      ],
      "source": [
        "b = 'result'\n",
        "exercise = []\n",
        "\n",
        "for l in b: # l means every item in b\n",
        "  exercise += l\n",
        "  print(exercise)"
      ]
    },
    {
      "cell_type": "code",
      "execution_count": null,
      "metadata": {
        "id": "RxDqiMIFY-sd",
        "colab": {
          "base_uri": "https://localhost:8080/"
        },
        "outputId": "ec71426a-03e6-443f-ea46-1f43692ea7db"
      },
      "outputs": [
        {
          "output_type": "stream",
          "name": "stdout",
          "text": [
            "['r', 'e', 's', 'u', 'l', 't']\n"
          ]
        }
      ],
      "source": [
        "print(exercise)"
      ]
    },
    {
      "cell_type": "markdown",
      "metadata": {
        "id": "EfsqUTPZZBM8"
      },
      "source": [
        "**while loops**: While loops continue to execute a set of instructions as long as a certain condition is met."
      ]
    },
    {
      "cell_type": "code",
      "execution_count": null,
      "metadata": {
        "id": "5s_S8T4uZMMU",
        "colab": {
          "base_uri": "https://localhost:8080/"
        },
        "outputId": "06ce374c-ea03-47b4-a5a5-63e05e9156e2"
      },
      "outputs": [
        {
          "output_type": "stream",
          "name": "stdout",
          "text": [
            "0\n",
            "1\n",
            "2\n",
            "3\n",
            "4\n"
          ]
        }
      ],
      "source": [
        "i = 0\n",
        "\n",
        "while i < 5:\n",
        "    print(i)\n",
        "    i += 1"
      ]
    },
    {
      "cell_type": "code",
      "execution_count": null,
      "metadata": {
        "id": "Hv29xo0iZg3_",
        "colab": {
          "base_uri": "https://localhost:8080/"
        },
        "outputId": "cdc4ec33-a535-4b21-c8e5-d866e64707e2"
      },
      "outputs": [
        {
          "output_type": "stream",
          "name": "stdout",
          "text": [
            "x is currently:  0\n",
            "x is still less than 10, adding 1 to x\n",
            "x is currently:  1\n",
            "x is still less than 10, adding 1 to x\n",
            "x is currently:  2\n",
            "x is still less than 10, adding 1 to x\n",
            "x is currently:  3\n",
            "x is still less than 10, adding 1 to x\n",
            "x is currently:  4\n",
            "x is still less than 10, adding 1 to x\n",
            "x is currently:  5\n",
            "x is still less than 10, adding 1 to x\n",
            "x is currently:  6\n",
            "x is still less than 10, adding 1 to x\n",
            "x is currently:  7\n",
            "x is still less than 10, adding 1 to x\n",
            "x is currently:  8\n",
            "x is still less than 10, adding 1 to x\n",
            "x is currently:  9\n",
            "x is still less than 10, adding 1 to x\n",
            "All done\n"
          ]
        }
      ],
      "source": [
        "x = 0\n",
        "\n",
        "while x < 10:\n",
        "    print('x is currently: ', x)\n",
        "    print('x is still less than 10, adding 1 to x')\n",
        "    x+=1\n",
        "\n",
        "else:\n",
        "    print('All done')"
      ]
    },
    {
      "cell_type": "markdown",
      "metadata": {
        "id": "JpHGqtAhaQ3_"
      },
      "source": [
        "**Loop control statements** are used to change the execution flow of loops. The primary loop control statements in Python are **break, continue, and pass.**\n",
        "\n",
        "**break** immediately stops the execution of a loop, and the control flows to the statement immediately after the loop.\n",
        "\n",
        "**continue** skips the rest of the loop's body for the current iteration and moves to the next iteration.\n",
        "\n",
        "**pass** does nothing. It's used as a placeholder."
      ]
    },
    {
      "cell_type": "code",
      "execution_count": null,
      "metadata": {
        "id": "LOd7bcjmabOe",
        "colab": {
          "base_uri": "https://localhost:8080/"
        },
        "outputId": "0f6cbc26-a8f0-422a-f418-a579276097b5"
      },
      "outputs": [
        {
          "output_type": "stream",
          "name": "stdout",
          "text": [
            "x is currently:  1\n",
            "x is still less than 10, adding 1 to x\n",
            "x is currently:  2\n",
            "x is still less than 10, adding 1 to x\n",
            "x is currently:  3\n",
            "x is still less than 10, adding 1 to x\n",
            "breaking because x==4\n"
          ]
        }
      ],
      "source": [
        "x = 1\n",
        "while x < 10:\n",
        "    print('x is currently: ', x)\n",
        "    print('x is still less than 10, adding 1 to x')\n",
        "    x+=1\n",
        "    if x==4:\n",
        "        print('breaking because x==4')\n",
        "        break"
      ]
    },
    {
      "cell_type": "code",
      "execution_count": null,
      "metadata": {
        "id": "ulcBrOp-bBOE",
        "colab": {
          "base_uri": "https://localhost:8080/"
        },
        "outputId": "79da44e9-7754-4100-d5c8-cbbc54946172"
      },
      "outputs": [
        {
          "output_type": "stream",
          "name": "stdout",
          "text": [
            "x is currently:  1\n",
            "x is still less than 10, adding 1 to x\n",
            "continuing...\n",
            "x is currently:  2\n",
            "x is still less than 10, adding 1 to x\n",
            "continuing...\n",
            "x is currently:  3\n",
            "x is still less than 10, adding 1 to x\n",
            "breaking because x==4\n"
          ]
        }
      ],
      "source": [
        "x = 1\n",
        "while x < 10:\n",
        "    print('x is currently: ', x)\n",
        "    print('x is still less than 10, adding 1 to x')\n",
        "    x+=1\n",
        "    if x==4:\n",
        "        print('breaking because x==4')\n",
        "        break\n",
        "    else:\n",
        "        print('continuing...')\n",
        "        continue"
      ]
    }
  ],
  "metadata": {
    "colab": {
      "provenance": []
    },
    "kernelspec": {
      "display_name": "Python 3 (ipykernel)",
      "language": "python",
      "name": "python3"
    },
    "language_info": {
      "codemirror_mode": {
        "name": "ipython",
        "version": 3
      },
      "file_extension": ".py",
      "mimetype": "text/x-python",
      "name": "python",
      "nbconvert_exporter": "python",
      "pygments_lexer": "ipython3",
      "version": "3.9.19"
    }
  },
  "nbformat": 4,
  "nbformat_minor": 0
}
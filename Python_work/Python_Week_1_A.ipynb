{
  "cells": [
    {
      "cell_type": "markdown",
      "metadata": {
        "id": "vmnF0k8fMvES"
      },
      "source": [
        "## **Python Variables**"
      ]
    },
    {
      "cell_type": "markdown",
      "metadata": {
        "id": "39glsDkLL-sr"
      },
      "source": [
        "Python is globally a very popular programming language, used across fields such as software development, data science, and AI.\n",
        "\n",
        "Variables serve as the building blocks for manipulating and organising data. It is a way to give a name to a memory location, making it easier to reference and manipulate data. Variables are used in various programming tasks, such as calculations, storage, and manipulation of data.\n",
        "\n",
        "To assign a variable, we need three components:\n",
        "Variable name: We can decide what we would like to name our variable but keep in mind it can be short and descriptive.\n",
        "\n",
        "Assignment operator: The variable name will be followed by the assignment operator. The assignment operator is an equal sign (=).\n",
        "\n",
        "The value: The value we assign to a variable can be numerical or consist of characters, known as strings."
      ]
    },
    {
      "cell_type": "markdown",
      "metadata": {
        "id": "b33Jk_HYk8ov"
      },
      "source": [
        "When naming variables, certain rules must be followed:\n",
        "\n",
        "1.) It must start with a letter or underscore\n",
        "\n",
        "2.) You are not allowed to start with a number\n",
        "\n",
        "3.) It is only allowed to contain alpha-numeric characters and underscores\n",
        "\n",
        "4.) Note that the variable names are case-sensitive"
      ]
    },
    {
      "cell_type": "markdown",
      "metadata": {
        "id": "DeM8plfCeYK9"
      },
      "source": [
        "some examples:"
      ]
    },
    {
      "cell_type": "code",
      "execution_count": null,
      "metadata": {
        "id": "pSd9E3GWfg_W"
      },
      "outputs": [],
      "source": [
        "data = 47"
      ]
    },
    {
      "cell_type": "code",
      "execution_count": null,
      "metadata": {
        "id": "zeYTSmicrTqI"
      },
      "outputs": [],
      "source": [
        "# type in the value of data\n",
        "data"
      ]
    },
    {
      "cell_type": "code",
      "execution_count": null,
      "metadata": {
        "id": "wESNXoGarafQ"
      },
      "outputs": [],
      "source": [
        "Data = 51"
      ]
    },
    {
      "cell_type": "code",
      "execution_count": null,
      "metadata": {
        "id": "bUtWfZj2rcXo"
      },
      "outputs": [],
      "source": [
        "# type in the value of Data\n",
        "Data"
      ]
    },
    {
      "cell_type": "code",
      "execution_count": null,
      "metadata": {
        "colab": {
          "base_uri": "https://localhost:8080/"
        },
        "id": "MwBKLpyLgVW6",
        "outputId": "11f918e0-d86d-4025-f6f1-2678e5029782"
      },
      "outputs": [
        {
          "name": "stdout",
          "output_type": "stream",
          "text": [
            "39\n",
            "50\n"
          ]
        }
      ],
      "source": [
        "data = 39\n",
        "data_2 = 50\n",
        "print(data)\n",
        "print(data_2)"
      ]
    },
    {
      "cell_type": "code",
      "execution_count": null,
      "metadata": {
        "id": "Ym0jE3AtrkAB"
      },
      "outputs": [],
      "source": [
        "# type in the updated value of data\n",
        "data"
      ]
    },
    {
      "cell_type": "code",
      "execution_count": null,
      "metadata": {
        "id": "3vQonHY3gki5"
      },
      "outputs": [],
      "source": [
        "new_code = \"Hello\""
      ]
    },
    {
      "cell_type": "code",
      "execution_count": null,
      "metadata": {
        "colab": {
          "base_uri": "https://localhost:8080/",
          "height": 35
        },
        "id": "EEp7zDcHsGCa",
        "outputId": "64d143fb-5b80-43bf-9b67-139542301ade"
      },
      "outputs": [
        {
          "data": {
            "application/vnd.google.colaboratory.intrinsic+json": {
              "type": "string"
            },
            "text/plain": [
              "'Hello'"
            ]
          },
          "execution_count": 3,
          "metadata": {},
          "output_type": "execute_result"
        }
      ],
      "source": [
        "# type in the value of new_code\n",
        "new_code"
      ]
    },
    {
      "cell_type": "markdown",
      "metadata": {
        "id": "RA9-Wb5OoboB"
      },
      "source": [
        "####**Using the print() function**"
      ]
    },
    {
      "cell_type": "code",
      "execution_count": null,
      "metadata": {
        "colab": {
          "base_uri": "https://localhost:8080/"
        },
        "id": "0McKJz9ZojSI",
        "outputId": "cf364c08-2658-447e-d74d-b8b424e91776"
      },
      "outputs": [
        {
          "name": "stdout",
          "output_type": "stream",
          "text": [
            "Name: Alice\n",
            "Age: 25\n"
          ]
        }
      ],
      "source": [
        "# Example: combining strings and variables\n",
        "\n",
        "name = \"Alice\"\n",
        "age = 25\n",
        "\n",
        "print(\"Name:\", name)\n",
        "print(\"Age:\", age)"
      ]
    },
    {
      "cell_type": "markdown",
      "metadata": {
        "id": "yupN1KFqM0Ak"
      },
      "source": [
        "# **Data types**"
      ]
    },
    {
      "cell_type": "markdown",
      "metadata": {
        "id": "p1EoJWGcM5n8"
      },
      "source": [
        "Data types dictate what kind of data a variable can store.\n",
        "\n",
        "\n",
        "Python makes use of five primitive variable types:"
      ]
    },
    {
      "cell_type": "markdown",
      "metadata": {
        "id": "t2SO3nqxxGFA"
      },
      "source": [
        "1.) Integers: for example, 5, -10."
      ]
    },
    {
      "cell_type": "markdown",
      "metadata": {
        "id": "zJLsVUNVxK3Q"
      },
      "source": [
        "2.) Floats: for example, 3.14, -0.5."
      ]
    },
    {
      "cell_type": "markdown",
      "metadata": {
        "id": "kgiOL0HRxQy5"
      },
      "source": [
        "3.) Complex numbers:\n",
        "for example, 2 + 3j, 1 - 1j."
      ]
    },
    {
      "cell_type": "markdown",
      "metadata": {
        "id": "pdAuWBzvxjsU"
      },
      "source": [
        "4.) Booleans: for example, True or False"
      ]
    },
    {
      "cell_type": "code",
      "execution_count": null,
      "metadata": {
        "colab": {
          "base_uri": "https://localhost:8080/"
        },
        "id": "PD4jrmcuwrYY",
        "outputId": "e4893908-a136-4cb6-b764-b3aef3496b8e"
      },
      "outputs": [
        {
          "data": {
            "text/plain": [
              "False"
            ]
          },
          "execution_count": 7,
          "metadata": {},
          "output_type": "execute_result"
        }
      ],
      "source": [
        "31 < 30      # it can only be either true or false, or 1 or 0"
      ]
    },
    {
      "cell_type": "markdown",
      "metadata": {
        "id": "choJpnWfi4yK"
      },
      "source": [
        "== is a comparison operator"
      ]
    },
    {
      "cell_type": "code",
      "execution_count": null,
      "metadata": {
        "colab": {
          "base_uri": "https://localhost:8080/"
        },
        "id": "O1ybI0BCNm5K",
        "outputId": "cbdc258b-e8bc-4293-88e3-bf7f05ed004a"
      },
      "outputs": [
        {
          "data": {
            "text/plain": [
              "True"
            ]
          },
          "execution_count": 8,
          "metadata": {},
          "output_type": "execute_result"
        }
      ],
      "source": [
        "data == 39"
      ]
    },
    {
      "cell_type": "code",
      "execution_count": null,
      "metadata": {
        "colab": {
          "base_uri": "https://localhost:8080/"
        },
        "id": "QY_jsWxcwxCR",
        "outputId": "299b7984-73f4-4326-db76-c41fbb6fdadd"
      },
      "outputs": [
        {
          "data": {
            "text/plain": [
              "True"
            ]
          },
          "execution_count": 11,
          "metadata": {},
          "output_type": "execute_result"
        }
      ],
      "source": [
        "sol == \"resting\""
      ]
    },
    {
      "cell_type": "markdown",
      "metadata": {
        "id": "kY9Mtky9xsFg"
      },
      "source": [
        "5.) Strings: for example, \"Hello, Python!\""
      ]
    },
    {
      "cell_type": "code",
      "execution_count": null,
      "metadata": {
        "id": "5QDNP-Fiw-3f"
      },
      "outputs": [],
      "source": [
        "string_w = \"400034\""
      ]
    },
    {
      "cell_type": "code",
      "execution_count": null,
      "metadata": {
        "id": "KLVnb-oGw2yg"
      },
      "outputs": [],
      "source": [
        "sol = \"resting\""
      ]
    },
    {
      "cell_type": "markdown",
      "metadata": {
        "id": "pPqeKipDqEVy"
      },
      "source": [
        "##**Some string manipulation methods**"
      ]
    },
    {
      "cell_type": "markdown",
      "metadata": {
        "id": "W_SVecVgqS9D"
      },
      "source": [
        "1.) Concatenation: the process of combining two or more strings into a single string using the \"+\" operator.\n"
      ]
    },
    {
      "cell_type": "code",
      "execution_count": null,
      "metadata": {
        "colab": {
          "base_uri": "https://localhost:8080/"
        },
        "id": "on-tbtxjqeVN",
        "outputId": "7da7420d-27d6-42e8-fc25-73e2e41b2714"
      },
      "outputs": [
        {
          "name": "stdout",
          "output_type": "stream",
          "text": [
            "Hello World\n"
          ]
        }
      ],
      "source": [
        "# Example: concatenation\n",
        "\n",
        "string1 = \"Hello\"\n",
        "string2 = \"World\"\n",
        "result = string1 + \" \" + string2  # \" \" is added because it represents one empty space\n",
        "print(result)"
      ]
    },
    {
      "cell_type": "markdown",
      "metadata": {
        "id": "x1WQhznisu5K"
      },
      "source": [
        "2.) Replication: involves creating repeated patterns of a string using the \"*\" operator."
      ]
    },
    {
      "cell_type": "code",
      "execution_count": null,
      "metadata": {
        "colab": {
          "base_uri": "https://localhost:8080/"
        },
        "id": "3Asre7ikt1QY",
        "outputId": "862413f1-4aea-48e2-912d-30fbdb64c04c"
      },
      "outputs": [
        {
          "name": "stdout",
          "output_type": "stream",
          "text": [
            "PythonPythonPython\n"
          ]
        }
      ],
      "source": [
        "# Example: replication\n",
        "\n",
        "original_string = \"Python\"\n",
        "replicated_string = original_string * 3\n",
        "print(replicated_string)"
      ]
    },
    {
      "cell_type": "markdown",
      "metadata": {
        "id": "8mFkUgaIty8S"
      },
      "source": [
        "3.) Slicing: the process of extracting specific portions of a string using square brackets [ ]."
      ]
    },
    {
      "cell_type": "code",
      "execution_count": null,
      "metadata": {
        "colab": {
          "base_uri": "https://localhost:8080/"
        },
        "id": "qBc0s4aluONG",
        "outputId": "e1a7f5ec-d703-4f3b-ac0f-a9e6c66635b9"
      },
      "outputs": [
        {
          "name": "stdout",
          "output_type": "stream",
          "text": [
            "Python\n"
          ]
        }
      ],
      "source": [
        "# Example: slicing – positive indexing\n",
        "\n",
        "text = \"Python is amazing\"\n",
        "substring = text[0:6]\n",
        "print(substring)"
      ]
    },
    {
      "cell_type": "code",
      "execution_count": null,
      "metadata": {
        "id": "pp9pq5eNvSyx"
      },
      "outputs": [],
      "source": [
        "# Example: slicing – negative indexing 1\n",
        "\n",
        "text = \"Python is amazing\"\n",
        "substring = text[-7:-1]\n",
        "print(substring)"
      ]
    },
    {
      "cell_type": "markdown",
      "metadata": {
        "id": "0wG-NhIdvc3i"
      },
      "source": [
        "The index -1 corresponds to the last character 'g' in \"amazing,\" and the index -7 corresponds to the character 'a'."
      ]
    },
    {
      "cell_type": "markdown",
      "metadata": {
        "id": "ReIjCwiNvvs4"
      },
      "source": [
        "###**Some built-in string methods**\n",
        "\n"
      ]
    },
    {
      "cell_type": "markdown",
      "metadata": {
        "id": "kbCaBKctJelF"
      },
      "source": [
        "In Python, built-in methods are pre-defined functions that operate on various data types, including strings. Understanding and utilising built-in string methods is crucial for effective string manipulation."
      ]
    },
    {
      "cell_type": "markdown",
      "metadata": {
        "id": "pzBQH3aaJmza"
      },
      "source": [
        "1.) The upper() method transforms all characters in a string to uppercase."
      ]
    },
    {
      "cell_type": "code",
      "execution_count": null,
      "metadata": {
        "colab": {
          "base_uri": "https://localhost:8080/"
        },
        "id": "jlAXc3YfJWHh",
        "outputId": "e31f36aa-acd6-40ae-cfcb-e8ff4bb18443"
      },
      "outputs": [
        {
          "name": "stdout",
          "output_type": "stream",
          "text": [
            "HELLO, WORLD!\n"
          ]
        }
      ],
      "source": [
        "# Example: upper() method\n",
        "\n",
        "original_string = \"hello, world!\"\n",
        "uppercase_string = original_string.upper()\n",
        "print(uppercase_string)"
      ]
    },
    {
      "cell_type": "markdown",
      "metadata": {
        "id": "fhh1age6J5LS"
      },
      "source": [
        "2.) The lower() method converts all characters in a string to lowercase."
      ]
    },
    {
      "cell_type": "code",
      "execution_count": null,
      "metadata": {
        "id": "RDvNyJuLJ-_N"
      },
      "outputs": [],
      "source": [
        "# Example: lower() method\n",
        "\n",
        "original_string = \"Hello, World!\"\n",
        "lowercase_string = original_string.lower()\n",
        "print(lowercase_string)"
      ]
    },
    {
      "cell_type": "markdown",
      "metadata": {
        "id": "Ql9k0OtBKDQo"
      },
      "source": [
        "3.) The capitalize() method capitalises the first character of a string"
      ]
    },
    {
      "cell_type": "code",
      "execution_count": null,
      "metadata": {
        "colab": {
          "base_uri": "https://localhost:8080/"
        },
        "id": "thN4JD7wKLkb",
        "outputId": "cf50b305-bbe5-443b-d89c-97c82e0b4498"
      },
      "outputs": [
        {
          "name": "stdout",
          "output_type": "stream",
          "text": [
            "Hello, world!\n"
          ]
        }
      ],
      "source": [
        "# Example: capitalize() method\n",
        "\n",
        "original_string = \"hello, world!\"\n",
        "capitalised_string = original_string.capitalize()\n",
        "print(capitalised_string)"
      ]
    },
    {
      "cell_type": "markdown",
      "metadata": {
        "id": "oAUWgItMKOjj"
      },
      "source": [
        "4.) The strip() method is used to remove leading and trailing whitespaces from a string."
      ]
    },
    {
      "cell_type": "code",
      "execution_count": null,
      "metadata": {
        "colab": {
          "base_uri": "https://localhost:8080/"
        },
        "id": "swQ20hnAKVGX",
        "outputId": "af84b528-6538-44fb-ab66-9116d53e2078"
      },
      "outputs": [
        {
          "name": "stdout",
          "output_type": "stream",
          "text": [
            "This is a sentence with spaces.\n"
          ]
        }
      ],
      "source": [
        "# Example: strip() method\n",
        "\n",
        "raw_input = \"    This is a sentence with spaces.    \"\n",
        "trimmed_input = raw_input.strip()\n",
        "print(trimmed_input)"
      ]
    },
    {
      "cell_type": "markdown",
      "metadata": {
        "id": "i0HGwySKKanq"
      },
      "source": [
        "5.) The replace() method facilitates the substitution of specific substrings within a string."
      ]
    },
    {
      "cell_type": "code",
      "execution_count": null,
      "metadata": {
        "colab": {
          "base_uri": "https://localhost:8080/"
        },
        "id": "uXUTt45FKfH1",
        "outputId": "51b237c5-3828-4024-b670-24686df91833"
      },
      "outputs": [
        {
          "name": "stdout",
          "output_type": "stream",
          "text": [
            "JavaScript is a powerful programming language.\n"
          ]
        }
      ],
      "source": [
        "# Example: replace() method\n",
        "\n",
        "original_text = \"Python is a powerful programming language.\"\n",
        "modified_text = original_text.replace(\"Python\", \"JavaScript\")\n",
        "print(modified_text)"
      ]
    },
    {
      "cell_type": "markdown",
      "metadata": {
        "id": "KH7lI6_IKmYa"
      },
      "source": [
        "6.) The find() method is employed to locate the index of a substring within a string."
      ]
    },
    {
      "cell_type": "code",
      "execution_count": null,
      "metadata": {
        "colab": {
          "base_uri": "https://localhost:8080/"
        },
        "id": "ZXtt94avKrrb",
        "outputId": "01e142c9-ea14-4a71-ca4e-80bcc9589275"
      },
      "outputs": [
        {
          "name": "stdout",
          "output_type": "stream",
          "text": [
            "16\n"
          ]
        }
      ],
      "source": [
        "sentence = \"Searching for a keyword in this sentence.\"\n",
        "index = sentence.find(\"keyword\")\n",
        "print(index)"
      ]
    },
    {
      "cell_type": "markdown",
      "metadata": {
        "id": "FiFTsWOfT4RM"
      },
      "source": [
        "# **Data Structures**\n",
        "\n",
        "\n"
      ]
    },
    {
      "cell_type": "markdown",
      "metadata": {
        "id": "6kPHVWHFjrg2"
      },
      "source": [
        "Python contains built-in data structures that allow us to store collections of data. These data structures provide a way of organising and managing the data for efficient access and performing operations on the data.\n",
        "\n",
        "The most common built-in data structures in Python include:\n",
        "\n",
        "Tuple\n",
        "\n",
        "List\n",
        "\n",
        "Set\n",
        "\n",
        "Dictionary"
      ]
    },
    {
      "cell_type": "markdown",
      "metadata": {
        "id": "aW77qysZN778"
      },
      "source": [
        "**I. Immutable data structures**\n",
        "\n",
        "These are data structures that cannot be changed once they are created. The **tuple** is an immutable data structure in Python.\n",
        "\n",
        "**II. Mutable data structures**\n",
        "\n",
        "These are data structures that can be modified in some way after creation. Mutable data structures in Python include the **list**, **set**, and **dictionary**."
      ]
    },
    {
      "cell_type": "markdown",
      "metadata": {
        "id": "tWIF_wDkPJuU"
      },
      "source": [
        "##**Tuples**"
      ]
    },
    {
      "cell_type": "markdown",
      "metadata": {
        "id": "uUCdQcj0PgMY"
      },
      "source": [
        "Tuples are Python data structures that store a constant group of items defined within round brackets or parentheses. Tuples can contain elements of varying data types. The elements in a tuple are ordered, which means that they maintain the specific position in which they were added. We cannot change, add, or remove items from a tuple once it has been created."
      ]
    },
    {
      "cell_type": "code",
      "execution_count": null,
      "metadata": {
        "id": "ouYStKKSQiaB"
      },
      "outputs": [],
      "source": [
        "# Create a tuple, defined within round brackets\n",
        "Plant_tuple = (\"Lemon grass\", \"Herb\", 50.5, 30)"
      ]
    },
    {
      "cell_type": "code",
      "execution_count": null,
      "metadata": {
        "id": "ECAzfYeJT7Fj"
      },
      "outputs": [],
      "source": [
        "# Create a tuple from a list using the tuple constructor\n",
        "Plant_tuple = tuple([\"Lemon grass\", \"Herb\", 50.5, 30])"
      ]
    },
    {
      "cell_type": "code",
      "execution_count": null,
      "metadata": {
        "colab": {
          "background_save": true,
          "base_uri": "https://localhost:8080/"
        },
        "id": "4OLikbuqUJb4",
        "outputId": "89cc4844-7dd3-4597-af27-bc8d250b1fcf"
      },
      "outputs": [
        {
          "ename": "ValueError",
          "evalue": "tuple.index(x): x not in tuple",
          "output_type": "error",
          "traceback": [
            "\u001b[0;31m---------------------------------------------------------------------------\u001b[0m",
            "\u001b[0;31mValueError\u001b[0m                                Traceback (most recent call last)",
            "\u001b[0;32m<ipython-input-14-23720062765a>\u001b[0m in \u001b[0;36m<cell line: 2>\u001b[0;34m()\u001b[0m\n\u001b[1;32m      1\u001b[0m \u001b[0;31m# Return the index of \"Lemon grass\" element from Plant_tuple\u001b[0m\u001b[0;34m\u001b[0m\u001b[0;34m\u001b[0m\u001b[0m\n\u001b[0;32m----> 2\u001b[0;31m \u001b[0mIndex_1\u001b[0m \u001b[0;34m=\u001b[0m \u001b[0mPlant_tuple\u001b[0m\u001b[0;34m.\u001b[0m\u001b[0mindex\u001b[0m\u001b[0;34m(\u001b[0m\u001b[0;34m\"hERB\"\u001b[0m\u001b[0;34m)\u001b[0m\u001b[0;34m\u001b[0m\u001b[0;34m\u001b[0m\u001b[0m\n\u001b[0m\u001b[1;32m      3\u001b[0m \u001b[0mprint\u001b[0m\u001b[0;34m(\u001b[0m\u001b[0mIndex_1\u001b[0m\u001b[0;34m)\u001b[0m\u001b[0;34m\u001b[0m\u001b[0;34m\u001b[0m\u001b[0m\n",
            "\u001b[0;31mValueError\u001b[0m: tuple.index(x): x not in tuple"
          ]
        }
      ],
      "source": [
        "# Return the index of \"Lemon grass\" element from Plant_tuple\n",
        "Index_1 = Plant_tuple.index(\"Lemon grass\")\n",
        "print(Index_1)"
      ]
    },
    {
      "cell_type": "code",
      "execution_count": null,
      "metadata": {
        "colab": {
          "base_uri": "https://localhost:8080/"
        },
        "id": "IGzufb4cVrE_",
        "outputId": "b0d6b920-cc82-41b0-c348-53f133181422"
      },
      "outputs": [
        {
          "data": {
            "text/plain": [
              "50.5"
            ]
          },
          "execution_count": 6,
          "metadata": {},
          "output_type": "execute_result"
        }
      ],
      "source": [
        "# Return the element at index 2 from Plant_tuple\n",
        "third_element = Plant_tuple[2]\n",
        "third_element"
      ]
    },
    {
      "cell_type": "code",
      "execution_count": null,
      "metadata": {
        "colab": {
          "base_uri": "https://localhost:8080/"
        },
        "id": "D3thKkCE7NvS",
        "outputId": "48d06576-4f82-4c27-9c68-c25bde9ebb1c"
      },
      "outputs": [
        {
          "data": {
            "text/plain": [
              "tuple"
            ]
          },
          "execution_count": 32,
          "metadata": {},
          "output_type": "execute_result"
        }
      ],
      "source": [
        "type(Plant_tuple)"
      ]
    },
    {
      "cell_type": "code",
      "execution_count": null,
      "metadata": {
        "colab": {
          "base_uri": "https://localhost:8080/",
          "height": 193
        },
        "id": "_VjFzvloWj5z",
        "outputId": "8d9f6529-e2d1-4668-d027-ad3e1dc6ec5d"
      },
      "outputs": [
        {
          "ename": "TypeError",
          "evalue": "'tuple' object does not support item assignment",
          "output_type": "error",
          "traceback": [
            "\u001b[0;31m---------------------------------------------------------------------------\u001b[0m",
            "\u001b[0;31mTypeError\u001b[0m                                 Traceback (most recent call last)",
            "\u001b[0;32m<ipython-input-31-1db574aee34a>\u001b[0m in \u001b[0;36m<cell line: 2>\u001b[0;34m()\u001b[0m\n\u001b[1;32m      1\u001b[0m \u001b[0;31m# Change the element at index 0 from Plant_tuple\u001b[0m\u001b[0;34m\u001b[0m\u001b[0;34m\u001b[0m\u001b[0m\n\u001b[0;32m----> 2\u001b[0;31m \u001b[0mPlant_tuple\u001b[0m\u001b[0;34m[\u001b[0m\u001b[0;36m0\u001b[0m\u001b[0;34m]\u001b[0m \u001b[0;34m=\u001b[0m \u001b[0;34m\"ferns\"\u001b[0m\u001b[0;34m\u001b[0m\u001b[0;34m\u001b[0m\u001b[0m\n\u001b[0m\u001b[1;32m      3\u001b[0m \u001b[0;34m\u001b[0m\u001b[0m\n\u001b[1;32m      4\u001b[0m \u001b[0mPlant_tuple\u001b[0m\u001b[0;34m\u001b[0m\u001b[0;34m\u001b[0m\u001b[0m\n",
            "\u001b[0;31mTypeError\u001b[0m: 'tuple' object does not support item assignment"
          ]
        }
      ],
      "source": [
        "# Change the element at index 0 from Plant_tuple\n",
        "Plant_tuple[0] = \"ferns\"\n",
        "\n",
        "Plant_tuple"
      ]
    },
    {
      "cell_type": "markdown",
      "metadata": {
        "id": "HsEThzr9Wshi"
      },
      "source": [
        "This raises an error, showing that tuple elements cannot be modified."
      ]
    },
    {
      "cell_type": "code",
      "execution_count": null,
      "metadata": {
        "colab": {
          "base_uri": "https://localhost:8080/"
        },
        "id": "Dam9GJlgWwrw",
        "outputId": "0cf5b79e-954a-4b32-d6a4-2c8e92d421a7"
      },
      "outputs": [
        {
          "name": "stdout",
          "output_type": "stream",
          "text": [
            "('Lemon grass', 'Herb', 50.5, 30, 'Tropics', False, False)\n"
          ]
        }
      ],
      "source": [
        "# Append a new tuple at the end of Plant_tuple\n",
        "Plant_tuple_new = Plant_tuple + (\"Tropics\", False, False)  # since tuples are ordered, they allow duplicates as they can be differentiated by their index\n",
        "\n",
        "print(Plant_tuple_new)"
      ]
    },
    {
      "cell_type": "code",
      "execution_count": null,
      "metadata": {
        "colab": {
          "base_uri": "https://localhost:8080/"
        },
        "id": "RxEpGY-e_1Xq",
        "outputId": "58513987-9483-4963-a837-217ec7fb56de"
      },
      "outputs": [
        {
          "data": {
            "text/plain": [
              "tuple"
            ]
          },
          "execution_count": 36,
          "metadata": {},
          "output_type": "execute_result"
        }
      ],
      "source": [
        "type(Plant_tuple_new)"
      ]
    },
    {
      "cell_type": "code",
      "execution_count": null,
      "metadata": {
        "id": "Nc8BKuPlAw4j"
      },
      "outputs": [],
      "source": [
        "data = \"ACGTCCGTTATTGCAGGCCTTAAC\"\n"
      ]
    },
    {
      "cell_type": "code",
      "execution_count": null,
      "metadata": {
        "colab": {
          "base_uri": "https://localhost:8080/"
        },
        "id": "OsAo9bnABB9Z",
        "outputId": "be8495d3-58c9-46c1-a342-600d1e4a9188"
      },
      "outputs": [
        {
          "data": {
            "text/plain": [
              "24"
            ]
          },
          "execution_count": 42,
          "metadata": {},
          "output_type": "execute_result"
        }
      ],
      "source": [
        "len(data)"
      ]
    },
    {
      "cell_type": "code",
      "execution_count": null,
      "metadata": {
        "colab": {
          "base_uri": "https://localhost:8080/"
        },
        "id": "KDB9ckDpBWSm",
        "outputId": "90c9552e-a4a4-4125-baca-27461485c415"
      },
      "outputs": [
        {
          "data": {
            "text/plain": [
              "7"
            ]
          },
          "execution_count": 45,
          "metadata": {},
          "output_type": "execute_result"
        }
      ],
      "source": [
        "data.count(\"T\")"
      ]
    },
    {
      "cell_type": "code",
      "execution_count": null,
      "metadata": {
        "colab": {
          "base_uri": "https://localhost:8080/"
        },
        "id": "OtmTWJX6Zpj2",
        "outputId": "edc268a7-3de6-4e6a-c239-b7bb1e09f723"
      },
      "outputs": [
        {
          "name": "stdout",
          "output_type": "stream",
          "text": [
            "No. of attributes: 7\n"
          ]
        }
      ],
      "source": [
        "# Return the number of elements in Plant_tuple_new using the len() function\n",
        "length_of_tuple = len(Plant_tuple_new)\n",
        "\n",
        "print(f\"No. of attributes: {length_of_tuple}\")"
      ]
    },
    {
      "cell_type": "code",
      "execution_count": null,
      "metadata": {
        "colab": {
          "base_uri": "https://localhost:8080/"
        },
        "id": "05Ehs07Se3Qy",
        "outputId": "95388c92-aea3-49ab-9a1c-117551d05f98"
      },
      "outputs": [
        {
          "name": "stdout",
          "output_type": "stream",
          "text": [
            "2\n"
          ]
        }
      ],
      "source": [
        "# Count the occurrence of the value False in Plant_tuple_new using the count() function\n",
        "count_false = Plant_tuple_new.count(False)\n",
        "\n",
        "print(count_false)"
      ]
    },
    {
      "cell_type": "code",
      "execution_count": null,
      "metadata": {
        "colab": {
          "base_uri": "https://localhost:8080/"
        },
        "id": "q1XAkc0zfBVI",
        "outputId": "f3a0a8fb-430e-4e02-a35b-950ea2333007"
      },
      "outputs": [
        {
          "name": "stdout",
          "output_type": "stream",
          "text": [
            "Name: Lemon grass\n",
            "Group: Herb\n"
          ]
        }
      ],
      "source": [
        "# Assign each element in Plant_tuple to individual variables. This is known as Tuple unpacking.\n",
        "Plant_tuple = (\"Lemon grass\", \"Herb\", 50.5, 30)\n",
        "\n",
        "name, group, av_weight, av_lifespan = Plant_tuple\n",
        "print(f\"Name: {name}\")\n",
        "print(f\"Group: {group}\")"
      ]
    },
    {
      "cell_type": "markdown",
      "metadata": {
        "id": "e4rZk0iqZ2W8"
      },
      "source": [
        "# **Lists**"
      ]
    },
    {
      "cell_type": "markdown",
      "metadata": {
        "id": "EKWHa7Bwgxlb"
      },
      "source": [
        "A list is a flexible data structure in Python. It can contain elements of different data types, which are enclosed within square brackets. Just like tuples, lists are also ordered, starting with an index of 0, making it possible for us to access items through their indexes. Their ordered nature also allows for duplicated items. Lists are mutable and elements can be modified, added, or removed as required."
      ]
    },
    {
      "cell_type": "code",
      "execution_count": null,
      "metadata": {
        "id": "1R2n8GHbi86V"
      },
      "outputs": [],
      "source": [
        "# Create an empty list called \"mammals\"\n",
        "mammals = []\n",
        "mammals"
      ]
    },
    {
      "cell_type": "code",
      "execution_count": null,
      "metadata": {
        "id": "o2iadvPPi93D"
      },
      "outputs": [],
      "source": [
        "# Create a list, defined within square brackets\n",
        "mammals = [\"Lion\", \"Elephant\", \"Dolphin\"]\n",
        "mammals"
      ]
    },
    {
      "cell_type": "code",
      "execution_count": null,
      "metadata": {
        "id": "2lwYY-HTjBpK"
      },
      "outputs": [],
      "source": [
        "# Create a list from a tuple using the list constructor\n",
        "birds = list((\"Eagle\", \"Penguin\", \"Parrot\"))\n",
        "birds"
      ]
    },
    {
      "cell_type": "code",
      "execution_count": null,
      "metadata": {
        "id": "Kf1aRKaRjGAs"
      },
      "outputs": [],
      "source": [
        "# Combine the mammals and birds lists\n",
        "animals_combined = mammals + birds\n",
        "print(animals_combined)"
      ]
    },
    {
      "cell_type": "code",
      "execution_count": null,
      "metadata": {
        "id": "M1Ymo2xEjQpx"
      },
      "outputs": [],
      "source": [
        "# Create a copy of the mammals list\n",
        "mammals_copy = mammals.copy()\n",
        "\n",
        "print(mammals, mammals_copy)"
      ]
    },
    {
      "cell_type": "code",
      "execution_count": null,
      "metadata": {
        "id": "yRKIGVUvjWpp"
      },
      "outputs": [],
      "source": [
        "# Create a nested list containing the mammals and birds lists within it\n",
        "animals_grouped = [mammals, birds]\n",
        "print(animals_grouped)"
      ]
    },
    {
      "cell_type": "code",
      "execution_count": null,
      "metadata": {
        "id": "OmHd7yiTjXo7"
      },
      "outputs": [],
      "source": [
        "# Create a nested list containing the mammals and birds lists within it\n",
        "animals_grouped = [['Lion', 'Elephant', 'Dolphin'], ['Eagle', 'Penguin', 'Parrot']]\n",
        "print(animals_grouped)"
      ]
    },
    {
      "cell_type": "code",
      "execution_count": null,
      "metadata": {
        "id": "uJ-W6pKUjcuM"
      },
      "outputs": [],
      "source": [
        "# Return the index of the \"Eagle\" element from the birds list\n",
        "first_index = birds.index(\"Eagle\")\n",
        "print(first_index)"
      ]
    },
    {
      "cell_type": "code",
      "execution_count": null,
      "metadata": {
        "id": "FntfsCozjgco"
      },
      "outputs": [],
      "source": [
        "# Return the element at index 1 from birds\n",
        "second_item = birds[1]\n",
        "print(second_item)"
      ]
    },
    {
      "cell_type": "code",
      "execution_count": null,
      "metadata": {
        "id": "SC7DBffSjtYb"
      },
      "outputs": [],
      "source": [
        "# Return the inner list at index 0\n",
        "animals_grouped = [['Lion', 'Elephant', 'Dolphin'], ['Eagle', 'Penguin', 'Parrot']]\n",
        "mammals = animals_grouped[0]\n",
        "print(mammals)"
      ]
    },
    {
      "cell_type": "code",
      "execution_count": null,
      "metadata": {
        "id": "Rl5wokPqjtCC"
      },
      "outputs": [],
      "source": [
        "# Return the element at index 1 from the inner list at index 0\n",
        "animals_grouped = [['Lion', 'Elephant', 'Dolphin'], ['Eagle', 'Penguin', 'Parrot']]\n",
        "second_mammal = animals_grouped[0][1]\n",
        "print(second_mammal)"
      ]
    },
    {
      "cell_type": "code",
      "execution_count": null,
      "metadata": {
        "id": "LOcsmzxzj4BE"
      },
      "outputs": [],
      "source": [
        "mammals_copy = mammals.copy()\n",
        "\n",
        "# Add a list element to mammals_copy\n",
        "mammals_copy.append([\"Cat\", \"Dog\"])\n",
        "print(mammals_copy)\n",
        "\n",
        "# Add individual elements to mammals_copy\n",
        "mammals_copy.extend([\"Bear\", \"Horse\"])\n",
        "print(mammals_copy)\n",
        "\n",
        "# Add an element to mammals_copy at index 3\n",
        "mammals_copy.insert(3, \"Tiger\")\n",
        "print(mammals_copy)"
      ]
    },
    {
      "cell_type": "code",
      "execution_count": null,
      "metadata": {
        "id": "c5KRtjrkj4wT"
      },
      "outputs": [],
      "source": [
        "print(mammals_copy)\n",
        "\n",
        "# Remove the elements at index 4 and 5 from mammals_copy\n",
        "del mammals_copy[4:6]\n",
        "print(mammals_copy)\n",
        "\n",
        "# Remove the element \"Horse\" from mammals_copy\n",
        "mammals_copy.remove(\"Horse\")\n",
        "print(mammals_copy)\n",
        "\n",
        "# Remove and return the element at index 2 from mammals_copy\n",
        "third_mammal = mammals_copy.pop(2)\n",
        "print(third_mammal)\n",
        "print(mammals_copy)"
      ]
    },
    {
      "cell_type": "markdown",
      "metadata": {
        "id": "3tfYQhAskHhp"
      },
      "source": [
        "we can also use len() and count() for lists"
      ]
    },
    {
      "cell_type": "markdown",
      "metadata": {
        "id": "DhNtm3_LhVO4"
      },
      "source": [
        "# **Sets**"
      ]
    },
    {
      "cell_type": "markdown",
      "metadata": {
        "id": "PMLwC7PDhZML"
      },
      "source": [
        "A set is a collection of unique items. Sets can contain elements of different data types and are defined using curly brackets. Unlike lists and tuples, the items in a set are not ordered. This means that they don't assume fixed positions, and their order can change each time they are used."
      ]
    },
    {
      "cell_type": "code",
      "execution_count": null,
      "metadata": {
        "id": "37duEuznkyK2"
      },
      "outputs": [],
      "source": [
        "# Create a set, defined within curly brackets\n",
        "eats_plants = {\"Giraffe\", \"Elephant\", \"Bear\", \"Rabbit\", \"Fox\"}\n",
        "print(eats_plants)"
      ]
    },
    {
      "cell_type": "code",
      "execution_count": null,
      "metadata": {
        "id": "G-vtOYq7kzFM"
      },
      "outputs": [],
      "source": [
        "# Create a set from a list using the set constructor\n",
        "eats_meat = set([\"Lion\", \"Tiger\", \"Bear\", \"Hawk\", \"Fox\", \"Lion\"])\n",
        "print(eats_meat)"
      ]
    },
    {
      "cell_type": "markdown",
      "metadata": {
        "id": "WNH0Ep89k9RP"
      },
      "source": [
        "Since sets are unordered, they do not allow duplicates."
      ]
    },
    {
      "cell_type": "code",
      "execution_count": null,
      "metadata": {
        "id": "UEtbOMYJk731"
      },
      "outputs": [],
      "source": [
        "# Set containing duplicates\n",
        "eats_meat = {\"Lion\", \"Tiger\", \"Bear\", \"Hawk\", \"Fox\", \"Lion\"}\n",
        "print(eats_meat)"
      ]
    },
    {
      "cell_type": "markdown",
      "metadata": {
        "id": "wOBd4L5vhnzh"
      },
      "source": [
        "# **Dictionaries**"
      ]
    },
    {
      "cell_type": "markdown",
      "metadata": {
        "id": "31BkcLs2hvIp"
      },
      "source": [
        "Dictionaries store a collection of key-based items, of any data type, defined within curly brackets. The key difference between dictionaries and previous data structures is that they are stored in pairs; that is, the key and the value itself, separated by a colon."
      ]
    },
    {
      "cell_type": "code",
      "execution_count": null,
      "metadata": {
        "id": "86z0qRBRlEev"
      },
      "outputs": [],
      "source": [
        "our_first_dictionary = {}"
      ]
    },
    {
      "cell_type": "code",
      "execution_count": null,
      "metadata": {
        "id": "5UpnrR-DlNNz"
      },
      "outputs": [],
      "source": [
        "type(our_first_dictionary)"
      ]
    },
    {
      "cell_type": "code",
      "execution_count": null,
      "metadata": {
        "id": "x44AXEsAlR5E"
      },
      "outputs": [],
      "source": [
        "our_first_dictionary['first_key']='first_value'"
      ]
    },
    {
      "cell_type": "code",
      "execution_count": null,
      "metadata": {
        "id": "1CzwRfdnlY6B"
      },
      "outputs": [],
      "source": [
        "our_first_dictionary"
      ]
    },
    {
      "cell_type": "code",
      "execution_count": null,
      "metadata": {
        "id": "ehQ0W8QYlcCF"
      },
      "outputs": [],
      "source": [
        "our_first_dictionary['first_key']"
      ]
    },
    {
      "cell_type": "markdown",
      "metadata": {
        "id": "oTzB_5TVllDN"
      },
      "source": [
        "From Python 3.7 onwards, dictionaries are ordered data structures, meaning that the order is always the same when calling the variables."
      ]
    },
    {
      "cell_type": "code",
      "execution_count": null,
      "metadata": {
        "id": "2pJ0-0TNlfa-"
      },
      "outputs": [],
      "source": [
        "# accidental duplicate keys in dictionary definition\n",
        "duplicate_key_dict = {'first_key': 'first_value', 'first_key': 'second_value', 'extra_key': 'extra_value'}\n",
        "duplicate_key_dict"
      ]
    },
    {
      "cell_type": "code",
      "execution_count": null,
      "metadata": {
        "id": "MWtH-lHelt-k"
      },
      "outputs": [],
      "source": [
        "print(our_first_dictionary)\n",
        "\n",
        "# changing a value for an existing key again\n",
        "our_first_dictionary['first_key'] = 100\n",
        "print(our_first_dictionary)"
      ]
    },
    {
      "cell_type": "code",
      "execution_count": null,
      "metadata": {
        "id": "h4oPE1spmF80"
      },
      "outputs": [],
      "source": [
        "# adding two new key-value pairs to an existing dictionary\n",
        "an_extra_key_value_dict = {'extra_key':'extra_value', 'another_extra_key':'another_value'}\n",
        "our_first_dictionary.update(an_extra_key_value_dict)\n",
        "our_first_dictionary"
      ]
    },
    {
      "cell_type": "code",
      "execution_count": null,
      "metadata": {
        "id": "JBzlyCw2mHGE"
      },
      "outputs": [],
      "source": [
        "print(\"Original our_first_dictionary: \", our_first_dictionary)\n",
        "\n",
        "# using del keyword to remove the key-value pair\n",
        "del our_first_dictionary[\"another_extra_key\"]\n",
        "print(\"Updated our_first_dictionary: \", our_first_dictionary)"
      ]
    },
    {
      "cell_type": "code",
      "execution_count": null,
      "metadata": {
        "id": "12qcEVPWmOCd"
      },
      "outputs": [],
      "source": [
        "# recreating our_first_dictionary with dict()\n",
        "\n",
        "our_first_dictionary = dict(first_key='first_value', extra_key='extra_value')\n",
        "our_first_dictionary"
      ]
    },
    {
      "cell_type": "code",
      "execution_count": null,
      "metadata": {
        "id": "NXT00e5BmWB1"
      },
      "outputs": [],
      "source": [
        "# creating a nested dictionary\n",
        "fynbos_families = { 'Erica': {'Cape Floristic Region': 670, 'Worldwide': 4500},\n",
        "                         'Protea': {'Cape Floristic Region': 330, 'Worldwide': 1350},\n",
        "                         'Restio':{'Cape Floristic Region': 320, 'Worldwide': 400},\n",
        "                         'Citrus':{'Cape Floristic Region': 273, 'Worldwide': 1650},\n",
        "                         'Phylica':{'Cape Floristic Region': 137, 'Worldwide': 900}\n",
        "                        }"
      ]
    },
    {
      "cell_type": "code",
      "execution_count": null,
      "metadata": {
        "id": "HqT6pEOJmXM1"
      },
      "outputs": [],
      "source": []
    },
    {
      "cell_type": "markdown",
      "metadata": {
        "id": "AAnCL02lkVTU"
      },
      "source": [
        "## **Slicing**\n",
        "\n",
        "We use slicing when we wish to return a sequence of values from a list instead of just a single value.\n",
        "\n",
        "Syntax: list[start:end]\n",
        "\n",
        "start: The index from which the slicing begins (included).\n",
        "\n",
        "end: The index at which the slicing ends (not included).\n",
        "\n",
        "For instance, if we want to slice from the 3rd to the 5th element, the start index will be 2 (to be included), and the end index will be 5 (not to be included)."
      ]
    },
    {
      "cell_type": "markdown",
      "metadata": {
        "id": "rrIlbQ5WkeXd"
      },
      "source": [
        "### **Other practice**"
      ]
    },
    {
      "cell_type": "code",
      "execution_count": null,
      "metadata": {
        "colab": {
          "base_uri": "https://localhost:8080/"
        },
        "id": "YmmLd9DCkjBB",
        "outputId": "b6da3f9c-d81b-4394-cf4b-8dd95e953134"
      },
      "outputs": [
        {
          "data": {
            "text/plain": [
              "['uche',\n",
              " 'summaya',\n",
              " 'edith',\n",
              " 'moeez',\n",
              " 'danyal',\n",
              " 'olalekan',\n",
              " 'aminat',\n",
              " 'anick',\n",
              " 'toba',\n",
              " 'youte']"
            ]
          },
          "execution_count": 22,
          "metadata": {},
          "output_type": "execute_result"
        }
      ],
      "source": [
        "biocoding_list"
      ]
    },
    {
      "cell_type": "code",
      "execution_count": null,
      "metadata": {
        "colab": {
          "base_uri": "https://localhost:8080/"
        },
        "id": "_wQzKxNVknyx",
        "outputId": "3f005ca0-09fb-4c0f-d07c-51a8892eca02"
      },
      "outputs": [
        {
          "name": "stdout",
          "output_type": "stream",
          "text": [
            "['uche', 'summaya', 'edith', 'moeez', 'danyal', 'olalekan', 'aminat', 'anick', 'toba', 'youte']\n"
          ]
        }
      ],
      "source": [
        "print(biocoding_list)"
      ]
    },
    {
      "cell_type": "code",
      "execution_count": null,
      "metadata": {
        "colab": {
          "base_uri": "https://localhost:8080/"
        },
        "id": "QL8oHlgYk3gg",
        "outputId": "7c8e312c-f596-4c55-f921-d7d50d9e8e8f"
      },
      "outputs": [
        {
          "name": "stdout",
          "output_type": "stream",
          "text": [
            "biocoding_list\n"
          ]
        }
      ],
      "source": [
        "print(\"biocoding_list\")"
      ]
    },
    {
      "cell_type": "code",
      "execution_count": null,
      "metadata": {
        "colab": {
          "base_uri": "https://localhost:8080/",
          "height": 141
        },
        "id": "YmUJssK6mTkC",
        "outputId": "7a5d6bc1-d040-4b11-fa2d-27eb60bd52e7"
      },
      "outputs": [
        {
          "ename": "NameError",
          "evalue": "name 'biocoding_list' is not defined",
          "output_type": "error",
          "traceback": [
            "\u001b[0;31m---------------------------------------------------------------------------\u001b[0m",
            "\u001b[0;31mNameError\u001b[0m                                 Traceback (most recent call last)",
            "\u001b[0;32m<ipython-input-11-a053a71b0298>\u001b[0m in \u001b[0;36m<cell line: 1>\u001b[0;34m()\u001b[0m\n\u001b[0;32m----> 1\u001b[0;31m \u001b[0mbiocoding_list\u001b[0m\u001b[0;34m[\u001b[0m\u001b[0;36m2\u001b[0m\u001b[0;34m:\u001b[0m\u001b[0;34m]\u001b[0m\u001b[0;34m\u001b[0m\u001b[0;34m\u001b[0m\u001b[0m\n\u001b[0m",
            "\u001b[0;31mNameError\u001b[0m: name 'biocoding_list' is not defined"
          ]
        }
      ],
      "source": [
        "biocoding_list[2:]"
      ]
    },
    {
      "cell_type": "code",
      "execution_count": null,
      "metadata": {
        "colab": {
          "base_uri": "https://localhost:8080/"
        },
        "id": "jJBMHVPomsZH",
        "outputId": "69c42e1e-924a-4459-a5b7-5c6ce8577637"
      },
      "outputs": [
        {
          "data": {
            "text/plain": [
              "['uche', 'danyal', 'toba']"
            ]
          },
          "execution_count": 42,
          "metadata": {},
          "output_type": "execute_result"
        }
      ],
      "source": [
        "biocoding_list[::4]"
      ]
    },
    {
      "cell_type": "markdown",
      "metadata": {
        "id": "FBfXhgq0qnFU"
      },
      "source": [
        "[start:stop:step] = [9]\n",
        "\n",
        "[step:] = [::9]\n",
        "\n",
        "[start:stop] = [:9]\n",
        "\n",
        "start is the index you want to start calling/slicing from. stop is the index you want to stop the calling/slicing. step is the amount of jumps/steps you want the slicing to take per slice."
      ]
    },
    {
      "cell_type": "code",
      "execution_count": null,
      "metadata": {
        "colab": {
          "base_uri": "https://localhost:8080/"
        },
        "id": "q7jJIK6fr9ZU",
        "outputId": "d1313f32-d5dd-4616-82bf-9949d4975634"
      },
      "outputs": [
        {
          "data": {
            "text/plain": [
              "['uche',\n",
              " 'summaya',\n",
              " 'edith',\n",
              " 'moeez',\n",
              " 'danyal',\n",
              " 'olalekan',\n",
              " 'aminat',\n",
              " 'anick',\n",
              " 'toba',\n",
              " 'youte']"
            ]
          },
          "execution_count": 43,
          "metadata": {},
          "output_type": "execute_result"
        }
      ],
      "source": [
        "biocoding_list[:]"
      ]
    },
    {
      "cell_type": "code",
      "execution_count": null,
      "metadata": {
        "colab": {
          "base_uri": "https://localhost:8080/"
        },
        "id": "ILdJ-eHJsRwB",
        "outputId": "23826ea2-521c-47b0-8112-402aaa27893a"
      },
      "outputs": [
        {
          "data": {
            "text/plain": [
              "['uche',\n",
              " 'summaya',\n",
              " 'edith',\n",
              " 'moeez',\n",
              " 'danyal',\n",
              " 'olalekan',\n",
              " 'aminat',\n",
              " 'anick',\n",
              " 'toba',\n",
              " 'youte']"
            ]
          },
          "execution_count": 44,
          "metadata": {},
          "output_type": "execute_result"
        }
      ],
      "source": [
        "biocoding_list[::]"
      ]
    },
    {
      "cell_type": "code",
      "execution_count": null,
      "metadata": {
        "colab": {
          "base_uri": "https://localhost:8080/"
        },
        "id": "4c4mlGgTsapD",
        "outputId": "4d348a7c-7a0c-45c7-f162-9fb2b14e098b"
      },
      "outputs": [
        {
          "data": {
            "text/plain": [
              "['uche', 'summaya', 'edith', 'moeez']"
            ]
          },
          "execution_count": 46,
          "metadata": {},
          "output_type": "execute_result"
        }
      ],
      "source": [
        "biocoding_list[:4]"
      ]
    },
    {
      "cell_type": "code",
      "execution_count": null,
      "metadata": {
        "colab": {
          "base_uri": "https://localhost:8080/",
          "height": 35
        },
        "id": "UUathWN3sWXB",
        "outputId": "4dfc8dc0-c165-42ec-e454-e049e464697d"
      },
      "outputs": [
        {
          "data": {
            "application/vnd.google.colaboratory.intrinsic+json": {
              "type": "string"
            },
            "text/plain": [
              "'danyal'"
            ]
          },
          "execution_count": 45,
          "metadata": {},
          "output_type": "execute_result"
        }
      ],
      "source": [
        "biocoding_list[4]"
      ]
    },
    {
      "cell_type": "code",
      "execution_count": null,
      "metadata": {
        "colab": {
          "base_uri": "https://localhost:8080/"
        },
        "id": "g8FfWRnWnnGB",
        "outputId": "ec0e8dba-dcaa-4d58-9f8e-07da2da920e8"
      },
      "outputs": [
        {
          "data": {
            "text/plain": [
              "['uche',\n",
              " 'summaya',\n",
              " 'edith',\n",
              " 'moeez',\n",
              " 'danyal',\n",
              " 'olalekan',\n",
              " 'aminat',\n",
              " 'anick',\n",
              " 'toba']"
            ]
          },
          "execution_count": 31,
          "metadata": {},
          "output_type": "execute_result"
        }
      ],
      "source": [
        "biocoding_list[:9]"
      ]
    },
    {
      "cell_type": "code",
      "execution_count": null,
      "metadata": {
        "id": "P-X8sDedj54f"
      },
      "outputs": [],
      "source": [
        "biocoding_list = [\"uche\", \"summaya\", \"edith\", \"moeez\", \"danyal\", \"olalekan\", \"aminat\", \"anick\", \"toba\", \"youte\"]"
      ]
    },
    {
      "cell_type": "code",
      "execution_count": null,
      "metadata": {
        "colab": {
          "base_uri": "https://localhost:8080/"
        },
        "id": "WaSRPPvvn7cu",
        "outputId": "fda008c9-4993-458f-f590-d6fd1f3b0b54"
      },
      "outputs": [
        {
          "data": {
            "text/plain": [
              "['anick', 'toba', 'youte']"
            ]
          },
          "execution_count": 33,
          "metadata": {},
          "output_type": "execute_result"
        }
      ],
      "source": [
        "biocoding_list[7::]"
      ]
    },
    {
      "cell_type": "code",
      "execution_count": null,
      "metadata": {
        "colab": {
          "base_uri": "https://localhost:8080/"
        },
        "id": "_139aLCioLFq",
        "outputId": "3db09737-ac93-4c1c-c4aa-d6bfe42d6a50"
      },
      "outputs": [
        {
          "data": {
            "text/plain": [
              "['anick', 'toba', 'youte']"
            ]
          },
          "execution_count": 34,
          "metadata": {},
          "output_type": "execute_result"
        }
      ],
      "source": [
        "biocoding_list[7:]"
      ]
    },
    {
      "cell_type": "code",
      "execution_count": null,
      "metadata": {
        "colab": {
          "base_uri": "https://localhost:8080/",
          "height": 35
        },
        "id": "HC4v0tARoPb1",
        "outputId": "d6dff486-9167-49ae-e587-b464ccd6268d"
      },
      "outputs": [
        {
          "data": {
            "application/vnd.google.colaboratory.intrinsic+json": {
              "type": "string"
            },
            "text/plain": [
              "'anick'"
            ]
          },
          "execution_count": 35,
          "metadata": {},
          "output_type": "execute_result"
        }
      ],
      "source": [
        "biocoding_list[7]"
      ]
    },
    {
      "cell_type": "code",
      "execution_count": null,
      "metadata": {
        "colab": {
          "base_uri": "https://localhost:8080/"
        },
        "id": "fcoEuArmopRC",
        "outputId": "9f5b74b1-791f-4d0a-e6fe-c372886847de"
      },
      "outputs": [
        {
          "data": {
            "text/plain": [
              "['moeez', 'danyal', 'olalekan', 'aminat', 'anick', 'toba', 'youte']"
            ]
          },
          "execution_count": 36,
          "metadata": {},
          "output_type": "execute_result"
        }
      ],
      "source": [
        "biocoding_list[3:]"
      ]
    },
    {
      "cell_type": "code",
      "execution_count": null,
      "metadata": {
        "colab": {
          "base_uri": "https://localhost:8080/"
        },
        "id": "Bdei9GktovzC",
        "outputId": "7447f06f-e7cc-45b3-a37d-fad0dcbacfea"
      },
      "outputs": [
        {
          "data": {
            "text/plain": [
              "['moeez', 'danyal', 'olalekan', 'aminat', 'anick', 'toba', 'youte']"
            ]
          },
          "execution_count": 37,
          "metadata": {},
          "output_type": "execute_result"
        }
      ],
      "source": [
        "biocoding_list[3::]"
      ]
    },
    {
      "cell_type": "code",
      "execution_count": null,
      "metadata": {
        "colab": {
          "base_uri": "https://localhost:8080/"
        },
        "id": "HmeVcFXEpBMi",
        "outputId": "ee4ec68b-dad2-4a95-e615-709a9e664cf9"
      },
      "outputs": [
        {
          "data": {
            "text/plain": [
              "['edith', 'moeez', 'danyal', 'olalekan', 'aminat', 'anick', 'toba', 'youte']"
            ]
          },
          "execution_count": 38,
          "metadata": {},
          "output_type": "execute_result"
        }
      ],
      "source": [
        "biocoding_list[2::]"
      ]
    },
    {
      "cell_type": "code",
      "execution_count": null,
      "metadata": {
        "colab": {
          "base_uri": "https://localhost:8080/"
        },
        "id": "7HIFvjYdpHcR",
        "outputId": "c1e362bb-d95b-4112-aab1-cd98bf786e10"
      },
      "outputs": [
        {
          "data": {
            "text/plain": [
              "['uche', 'edith', 'danyal', 'aminat', 'toba']"
            ]
          },
          "execution_count": 39,
          "metadata": {},
          "output_type": "execute_result"
        }
      ],
      "source": [
        "biocoding_list[::2]"
      ]
    },
    {
      "cell_type": "code",
      "execution_count": null,
      "metadata": {
        "colab": {
          "base_uri": "https://localhost:8080/"
        },
        "id": "VOzzYL_3pMn7",
        "outputId": "87dcdb0d-30ef-4e0c-8975-1e12ede992c2"
      },
      "outputs": [
        {
          "data": {
            "text/plain": [
              "['uche', 'summaya']"
            ]
          },
          "execution_count": 40,
          "metadata": {},
          "output_type": "execute_result"
        }
      ],
      "source": [
        "biocoding_list[:2]"
      ]
    },
    {
      "cell_type": "code",
      "execution_count": null,
      "metadata": {
        "colab": {
          "base_uri": "https://localhost:8080/"
        },
        "id": "S5CFFhWkpSn7",
        "outputId": "b0dd45bd-82da-4bf3-f4f2-9a4f79be7e7b"
      },
      "outputs": [
        {
          "data": {
            "text/plain": [
              "['edith', 'moeez', 'danyal', 'olalekan']"
            ]
          },
          "execution_count": 41,
          "metadata": {},
          "output_type": "execute_result"
        }
      ],
      "source": [
        "biocoding_list[2:6]"
      ]
    },
    {
      "cell_type": "code",
      "execution_count": null,
      "metadata": {
        "colab": {
          "base_uri": "https://localhost:8080/"
        },
        "id": "IcSS1JF29yVj",
        "outputId": "c71d333f-992d-44c3-f40b-2a02c12bd2f1"
      },
      "outputs": [
        {
          "data": {
            "text/plain": [
              "[5, 4, 'three', 'two', 'one']"
            ]
          },
          "execution_count": 28,
          "metadata": {},
          "output_type": "execute_result"
        }
      ],
      "source": [
        "my_list[::-1]"
      ]
    },
    {
      "cell_type": "code",
      "execution_count": null,
      "metadata": {
        "id": "LqZoxhaMQqO1"
      },
      "outputs": [],
      "source": [
        "my_list = ['one', 'two', 'three', 4, 5]"
      ]
    },
    {
      "cell_type": "code",
      "execution_count": null,
      "metadata": {
        "colab": {
          "base_uri": "https://localhost:8080/"
        },
        "id": "5tU0TkmYDD4p",
        "outputId": "c1f34bcb-8d8c-4022-907c-c6078d52a5bc"
      },
      "outputs": [
        {
          "data": {
            "text/plain": [
              "[5]"
            ]
          },
          "execution_count": 29,
          "metadata": {},
          "output_type": "execute_result"
        }
      ],
      "source": [
        "my_list[-1::]"
      ]
    },
    {
      "cell_type": "code",
      "execution_count": null,
      "metadata": {
        "colab": {
          "base_uri": "https://localhost:8080/"
        },
        "id": "lhuBP85NHh1c",
        "outputId": "3158b70b-a5b0-4b31-cbf0-b345c7111e49"
      },
      "outputs": [
        {
          "data": {
            "text/plain": [
              "['one', 'two', 'three', 4, 5]"
            ]
          },
          "execution_count": 5,
          "metadata": {},
          "output_type": "execute_result"
        }
      ],
      "source": [
        "my_list[::1]"
      ]
    },
    {
      "cell_type": "code",
      "execution_count": null,
      "metadata": {
        "colab": {
          "base_uri": "https://localhost:8080/"
        },
        "id": "IOPgilJTHpxv",
        "outputId": "7ecb8391-f40f-4023-aceb-cd4a9d638c3b"
      },
      "outputs": [
        {
          "data": {
            "text/plain": [
              "['two', 'three', 4, 5]"
            ]
          },
          "execution_count": 6,
          "metadata": {},
          "output_type": "execute_result"
        }
      ],
      "source": [
        "my_list[1::]"
      ]
    },
    {
      "cell_type": "code",
      "execution_count": null,
      "metadata": {
        "colab": {
          "base_uri": "https://localhost:8080/"
        },
        "id": "n678iB-cAzVR",
        "outputId": "1fcb24bc-25aa-4314-a8bb-c51d000fdf0e"
      },
      "outputs": [
        {
          "data": {
            "text/plain": [
              "['one', 'two', 'three', 4]"
            ]
          },
          "execution_count": 7,
          "metadata": {},
          "output_type": "execute_result"
        }
      ],
      "source": [
        "my_list[:-1]"
      ]
    },
    {
      "cell_type": "code",
      "execution_count": null,
      "metadata": {
        "colab": {
          "base_uri": "https://localhost:8080/"
        },
        "id": "5hlqqgQJC5zp",
        "outputId": "1989fbf5-5e56-4ebe-b254-af1f7de9026d"
      },
      "outputs": [
        {
          "data": {
            "text/plain": [
              "[5]"
            ]
          },
          "execution_count": 8,
          "metadata": {},
          "output_type": "execute_result"
        }
      ],
      "source": [
        "my_list[-1:]"
      ]
    },
    {
      "cell_type": "code",
      "execution_count": null,
      "metadata": {
        "colab": {
          "base_uri": "https://localhost:8080/",
          "height": 35
        },
        "id": "i7Y7qKq6BN5s",
        "outputId": "698620ca-7eaa-49d1-d03c-2bffc15c8f1c"
      },
      "outputs": [
        {
          "data": {
            "application/vnd.google.colaboratory.intrinsic+json": {
              "type": "string"
            },
            "text/plain": [
              "'two'"
            ]
          },
          "execution_count": 9,
          "metadata": {},
          "output_type": "execute_result"
        }
      ],
      "source": [
        "my_list[1]"
      ]
    },
    {
      "cell_type": "code",
      "execution_count": null,
      "metadata": {
        "colab": {
          "base_uri": "https://localhost:8080/"
        },
        "id": "hDrlX5MDEM1q",
        "outputId": "533aeaee-89a7-4538-b404-57efe71f8a05"
      },
      "outputs": [
        {
          "data": {
            "text/plain": [
              "5"
            ]
          },
          "execution_count": 10,
          "metadata": {},
          "output_type": "execute_result"
        }
      ],
      "source": [
        "my_list[-1]"
      ]
    },
    {
      "cell_type": "code",
      "execution_count": null,
      "metadata": {
        "colab": {
          "base_uri": "https://localhost:8080/"
        },
        "id": "MXiRvPdiB9wB",
        "outputId": "19d38b37-7fd3-4101-c350-42e16b9a4eb0"
      },
      "outputs": [
        {
          "data": {
            "text/plain": [
              "['one']"
            ]
          },
          "execution_count": 11,
          "metadata": {},
          "output_type": "execute_result"
        }
      ],
      "source": [
        "my_list[:1]"
      ]
    },
    {
      "cell_type": "code",
      "execution_count": null,
      "metadata": {
        "colab": {
          "base_uri": "https://localhost:8080/"
        },
        "id": "ka1cIbZOBvgz",
        "outputId": "48504351-be6d-4bc4-e329-e99bbf3626aa"
      },
      "outputs": [
        {
          "data": {
            "text/plain": [
              "['two', 'three', 4, 5]"
            ]
          },
          "execution_count": 12,
          "metadata": {},
          "output_type": "execute_result"
        }
      ],
      "source": [
        "my_list[1:]"
      ]
    },
    {
      "cell_type": "code",
      "execution_count": null,
      "metadata": {
        "colab": {
          "base_uri": "https://localhost:8080/",
          "height": 35
        },
        "id": "PfU3rCTRDYlB",
        "outputId": "3edd1693-1038-4820-adb0-948cbc582bf5"
      },
      "outputs": [
        {
          "data": {
            "application/vnd.google.colaboratory.intrinsic+json": {
              "type": "string"
            },
            "text/plain": [
              "'three'"
            ]
          },
          "execution_count": 13,
          "metadata": {},
          "output_type": "execute_result"
        }
      ],
      "source": [
        "my_list[2]"
      ]
    },
    {
      "cell_type": "code",
      "execution_count": null,
      "metadata": {
        "colab": {
          "base_uri": "https://localhost:8080/"
        },
        "id": "25LFSm2cDbHx",
        "outputId": "d4a83396-c4fc-458e-ac06-859fa5a643fe"
      },
      "outputs": [
        {
          "data": {
            "text/plain": [
              "4"
            ]
          },
          "execution_count": 14,
          "metadata": {},
          "output_type": "execute_result"
        }
      ],
      "source": [
        "my_list[-2]"
      ]
    },
    {
      "cell_type": "code",
      "execution_count": null,
      "metadata": {
        "colab": {
          "base_uri": "https://localhost:8080/"
        },
        "id": "OMsTtDm-RxMd",
        "outputId": "05685e47-da19-4873-85bb-fe9de3259f39"
      },
      "outputs": [
        {
          "data": {
            "text/plain": [
              "['one', 'two']"
            ]
          },
          "execution_count": 21,
          "metadata": {},
          "output_type": "execute_result"
        }
      ],
      "source": [
        "my_list[:2]"
      ]
    },
    {
      "cell_type": "code",
      "execution_count": null,
      "metadata": {
        "colab": {
          "base_uri": "https://localhost:8080/"
        },
        "id": "EH2znzXwR0Pb",
        "outputId": "f2e0a83d-b43f-4b7e-af5d-d3bb803995bf"
      },
      "outputs": [
        {
          "data": {
            "text/plain": [
              "['three', 4, 5]"
            ]
          },
          "execution_count": 22,
          "metadata": {},
          "output_type": "execute_result"
        }
      ],
      "source": [
        "my_list[2:]"
      ]
    },
    {
      "cell_type": "code",
      "execution_count": null,
      "metadata": {
        "colab": {
          "base_uri": "https://localhost:8080/"
        },
        "id": "CNr_zDtnBGSs",
        "outputId": "f066c654-b601-4d36-f661-d9dd212e69dd"
      },
      "outputs": [
        {
          "data": {
            "text/plain": [
              "['one', 'two', 'three']"
            ]
          },
          "execution_count": 15,
          "metadata": {},
          "output_type": "execute_result"
        }
      ],
      "source": [
        "my_list[:-2]"
      ]
    },
    {
      "cell_type": "code",
      "execution_count": null,
      "metadata": {
        "colab": {
          "base_uri": "https://localhost:8080/"
        },
        "id": "ooN5VWssDTX8",
        "outputId": "64047d94-8cfb-492c-bcf9-aa82517dff44"
      },
      "outputs": [
        {
          "data": {
            "text/plain": [
              "[4, 5]"
            ]
          },
          "execution_count": 16,
          "metadata": {},
          "output_type": "execute_result"
        }
      ],
      "source": [
        "my_list[-2:]"
      ]
    },
    {
      "cell_type": "code",
      "execution_count": null,
      "metadata": {
        "colab": {
          "base_uri": "https://localhost:8080/"
        },
        "id": "wayTyY51Cf1C",
        "outputId": "26509a46-2d9f-4997-a970-256c2940eb85"
      },
      "outputs": [
        {
          "data": {
            "text/plain": [
              "['one', 'three', 5]"
            ]
          },
          "execution_count": 17,
          "metadata": {},
          "output_type": "execute_result"
        }
      ],
      "source": [
        "my_list[::2]"
      ]
    },
    {
      "cell_type": "code",
      "execution_count": null,
      "metadata": {
        "colab": {
          "base_uri": "https://localhost:8080/"
        },
        "id": "Sxn2bUveDqhC",
        "outputId": "24097dca-bb60-4a3c-c133-4dfdb4485c54"
      },
      "outputs": [
        {
          "data": {
            "text/plain": [
              "['three', 4, 5]"
            ]
          },
          "execution_count": 23,
          "metadata": {},
          "output_type": "execute_result"
        }
      ],
      "source": [
        "my_list[2::]"
      ]
    },
    {
      "cell_type": "code",
      "execution_count": null,
      "metadata": {
        "colab": {
          "base_uri": "https://localhost:8080/"
        },
        "id": "4c_2I9ahAjHu",
        "outputId": "942cdb6a-de33-4e95-ff46-096044e1b8e1"
      },
      "outputs": [
        {
          "data": {
            "text/plain": [
              "[5, 'three', 'one']"
            ]
          },
          "execution_count": 19,
          "metadata": {},
          "output_type": "execute_result"
        }
      ],
      "source": [
        "my_list[::-2]"
      ]
    },
    {
      "cell_type": "code",
      "execution_count": null,
      "metadata": {
        "colab": {
          "base_uri": "https://localhost:8080/"
        },
        "id": "FWtlE0C2DwT6",
        "outputId": "9d200a47-6d18-4140-98c8-47b335f86652"
      },
      "outputs": [
        {
          "data": {
            "text/plain": [
              "[4, 5]"
            ]
          },
          "execution_count": 20,
          "metadata": {},
          "output_type": "execute_result"
        }
      ],
      "source": [
        "my_list[-2::]"
      ]
    }
  ],
  "metadata": {
    "colab": {
      "provenance": []
    },
    "kernelspec": {
      "display_name": "Python 3",
      "name": "python3"
    },
    "language_info": {
      "name": "python"
    }
  },
  "nbformat": 4,
  "nbformat_minor": 0
}